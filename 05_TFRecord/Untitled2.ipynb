{
 "cells": [
  {
   "cell_type": "code",
   "execution_count": 1,
   "metadata": {},
   "outputs": [],
   "source": [
    "import tensorflow as tf"
   ]
  },
  {
   "cell_type": "code",
   "execution_count": 8,
   "metadata": {},
   "outputs": [
    {
     "name": "stdout",
     "output_type": "stream",
     "text": [
      "63\n"
     ]
    }
   ],
   "source": [
    "with tf.name_scope(\"MyOperationGroup\"):\n",
    "    with tf.name_scope(\"Scope_A\"):\n",
    "        a = tf.add(1, 2, name=\"Add_these_numbers\")\n",
    "        b = tf.multiply(a, 3)\n",
    "    with tf.name_scope(\"Scope_B\"):\n",
    "        c = tf.add(4, 5, name=\"Add_these_ones\")\n",
    "        d = tf.multiply(c, 6, name=\"multiply_these_numbers\")\n",
    "\n",
    "with tf.name_scope(\"Scope_C\"):\n",
    "    e = tf.multiply(4, 5, name=\"B_add\")\n",
    "    f = tf.div(c, 6, name=\"B_mul\")\n",
    "\n",
    "g = tf.add(b, d)\n",
    "h = tf.multiply(g, f)\n",
    "\n",
    "with tf.Session() as sess:\n",
    "    writer = tf.summary.FileWriter(\"output\", sess.graph)\n",
    "    print(sess.run(h))\n",
    "    writer.close()"
   ]
  },
  {
   "cell_type": "code",
   "execution_count": 9,
   "metadata": {},
   "outputs": [],
   "source": [
    "filename = 'olympics2016.csv'"
   ]
  },
  {
   "cell_type": "code",
   "execution_count": 16,
   "metadata": {},
   "outputs": [],
   "source": [
    "features = tf.placeholder(tf.int32, shape=[3], name='features')\n",
    "country = tf.placeholder(tf.string, name='country')\n",
    "total = tf.reduce_sum(features, name='total')"
   ]
  },
  {
   "cell_type": "code",
   "execution_count": 18,
   "metadata": {},
   "outputs": [],
   "source": [
    "printerop = tf.Print(total, [country, features, total], name='printer')"
   ]
  },
  {
   "cell_type": "code",
   "execution_count": 19,
   "metadata": {},
   "outputs": [
    {
     "name": "stdout",
     "output_type": "stream",
     "text": [
      "\"United States\" 121\n",
      "\"Great Britain\" 67\n",
      "\"China\" 70\n",
      "\"Russia\" 56\n",
      "\"Germany\" 42\n",
      "\"Japan\" 41\n",
      "\"France\" 42\n",
      "\"South Korea\" 21\n",
      "\"Italy\" 28\n",
      "\"Australia\" 29\n",
      "\"Netherlands\" 19\n",
      "\"Hungary\" 15\n",
      "\"Brazil\" 19\n",
      "\"Spain\" 17\n",
      "\"Kenya\" 13\n",
      "\"Jamaica\" 11\n",
      "\"Croatia\" 10\n",
      "\"Cuba\" 11\n",
      "\"New Zealand\" 18\n",
      "\"Canada\" 22\n",
      "\"Uzbekistan\" 13\n",
      "\"Kazakhstan\" 17\n",
      "\"Colombia\" 8\n",
      "\"Switzerland\" 7\n",
      "\"Iran\" 8\n",
      "\"Greece\" 6\n",
      "\"Argentina\" 4\n",
      "\"Denmark\" 15\n",
      "\"Sweden\" 11\n",
      "\"South Africa\" 10\n",
      "\"Ukraine\" 11\n",
      "\"Serbia\" 8\n",
      "\"Poland\" 11\n",
      "\"North Korea\" 7\n",
      "\"Belgium\" 6\n",
      "\"Thailand\" 6\n",
      "\"Slovakia\" 4\n",
      "\"Georgia\" 7\n",
      "\"Azerbaijan\" 18\n",
      "\"Belarus\" 9\n",
      "\"Turkey\" 8\n",
      "\"Armenia\" 4\n",
      "\"Czech Republic\" 10\n",
      "\"Ethiopia\" 8\n",
      "\"Slovenia\" 4\n",
      "\"Indonesia\" 3\n",
      "\"Romania\" 5\n",
      "\"Bahrain\" 2\n",
      "\"Vietnam\" 2\n",
      "\"Chinese Taipei\" 3\n",
      "\"Bahamas\" 2\n",
      "\"Ivory Coast\" 2\n",
      "\"Independent Olympic Athletes\" 2\n",
      "\"Fiji\" 1\n",
      "\"Jordan\" 1\n",
      "\"Kosovo\" 1\n",
      "\"Puerto Rico\" 1\n",
      "\"Singapore\" 1\n",
      "\"Tajikistan\" 1\n",
      "\"Malaysia\" 5\n",
      "\"Mexico\" 5\n",
      "\"Algeria\" 2\n",
      "\"Ireland\" 2\n",
      "\"Lithuania\" 4\n",
      "\"Bulgaria\" 3\n",
      "\"Venezuela\" 3\n",
      "\"India\" 2\n",
      "\"Mongolia\" 2\n",
      "\"Burundi\" 1\n",
      "\"Grenada\" 1\n",
      "\"Niger\" 1\n",
      "\"Philippines\" 1\n",
      "\"Qatar\" 1\n",
      "\"Norway\" 4\n",
      "\"Egypt\" 3\n",
      "\"Tunisia\" 3\n",
      "\"Israel\" 2\n",
      "\"Austria\" 1\n",
      "\"Dominican Republic\" 1\n",
      "\"Estonia\" 1\n",
      "\"Finland\" 1\n",
      "\"Morocco\" 1\n",
      "\"Moldova\" 1\n",
      "\"Nigeria\" 1\n",
      "\"Portugal\" 1\n",
      "\"Trinidad and Tobago\" 1\n",
      "\"United Arab Emirates\" 1\n"
     ]
    }
   ],
   "source": [
    "with tf.Session() as sess:\n",
    "    sess.run(tf.global_variables_initializer())\n",
    "    with open(filename) as inf:\n",
    "        next(inf)\n",
    "        for line in inf:\n",
    "            country_name, code, gold, silver, bronze, total = line.strip().split(\",\")\n",
    "            gold = int(gold)\n",
    "            silver = int(silver)\n",
    "            bronze = int(bronze)\n",
    "            total = sess.run(printerop, feed_dict={features: [gold, silver, bronze], country:country_name})\n",
    "            print(country_name, total)"
   ]
  },
  {
   "cell_type": "code",
   "execution_count": null,
   "metadata": {},
   "outputs": [],
   "source": []
  }
 ],
 "metadata": {
  "kernelspec": {
   "display_name": "Python 3",
   "language": "python",
   "name": "python3"
  },
  "language_info": {
   "codemirror_mode": {
    "name": "ipython",
    "version": 3
   },
   "file_extension": ".py",
   "mimetype": "text/x-python",
   "name": "python",
   "nbconvert_exporter": "python",
   "pygments_lexer": "ipython3",
   "version": "3.6.5"
  }
 },
 "nbformat": 4,
 "nbformat_minor": 2
}
